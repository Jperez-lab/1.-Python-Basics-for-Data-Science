{
 "cells": [
  {
   "cell_type": "code",
   "execution_count": null,
   "id": "bb953889-1d5c-44f0-9ae3-b0ac9e5b9b8a",
   "metadata": {},
   "outputs": [],
   "source": [
    "What python object do you cast to a dataframe?"
   ]
  }
 ],
 "metadata": {
  "kernelspec": {
   "display_name": "Python 3 (ipykernel)",
   "language": "python",
   "name": "python3"
  },
  "language_info": {
   "codemirror_mode": {
    "name": "ipython",
    "version": 3
   },
   "file_extension": ".py",
   "mimetype": "text/x-python",
   "name": "python",
   "nbconvert_exporter": "python",
   "pygments_lexer": "ipython3",
   "version": "3.9.7"
  }
 },
 "nbformat": 4,
 "nbformat_minor": 5
}
