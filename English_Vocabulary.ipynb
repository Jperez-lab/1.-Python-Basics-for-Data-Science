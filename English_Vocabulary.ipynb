{
 "cells": [
  {
   "cell_type": "markdown",
   "id": "92438b19-eafc-48dd-a880-874be39af714",
   "metadata": {},
   "source": [
    "# English Vocabulary Dictionary"
   ]
  },
  {
   "cell_type": "code",
   "execution_count": 1,
   "id": "53430bd4-3c62-4623-bbdc-15ae6a4557cb",
   "metadata": {},
   "outputs": [],
   "source": [
    "Dict = {}\n",
    "#Dict\n",
    "# Append value with key into dictionary\n",
    "\n",
    "#Dict['release'] = 'liberar'\n",
    "#Dict['brancing'] = 'ramificaciones'\n",
    "\n",
    "#Dict"
   ]
  },
  {
   "cell_type": "markdown",
   "id": "3e8d5097-1ece-440f-878c-17d2ccd413b1",
   "metadata": {},
   "source": [
    "# New words"
   ]
  },
  {
   "cell_type": "code",
   "execution_count": 3,
   "id": "8944d55c-0f4b-4a8b-946b-164cad300e57",
   "metadata": {},
   "outputs": [
    {
     "name": "stdin",
     "output_type": "stream",
     "text": [
      "Please enter english word:  Scope of a Variable .\n",
      "Please enter traslation word:  Alcance de una variable\n"
     ]
    },
    {
     "ename": "NameError",
     "evalue": "name 'Dict' is not defined",
     "output_type": "error",
     "traceback": [
      "\u001b[1;31m---------------------------------------------------------------------------\u001b[0m",
      "\u001b[1;31mNameError\u001b[0m                                 Traceback (most recent call last)",
      "Input \u001b[1;32mIn [3]\u001b[0m, in \u001b[0;36m<module>\u001b[1;34m\u001b[0m\n\u001b[0;32m      1\u001b[0m eng_word \u001b[38;5;241m=\u001b[39m \u001b[38;5;28minput\u001b[39m(\u001b[38;5;124m\"\u001b[39m\u001b[38;5;124mPlease enter english word: \u001b[39m\u001b[38;5;124m\"\u001b[39m)\n\u001b[0;32m      2\u001b[0m spa_word \u001b[38;5;241m=\u001b[39m \u001b[38;5;28minput\u001b[39m(\u001b[38;5;124m\"\u001b[39m\u001b[38;5;124mPlease enter traslation word: \u001b[39m\u001b[38;5;124m\"\u001b[39m)\n\u001b[1;32m----> 3\u001b[0m \u001b[43mDict\u001b[49m[eng_word] \u001b[38;5;241m=\u001b[39m spa_word\n\u001b[0;32m      4\u001b[0m Dict_final \u001b[38;5;241m=\u001b[39m Dict\n\u001b[0;32m      5\u001b[0m Dict\n",
      "\u001b[1;31mNameError\u001b[0m: name 'Dict' is not defined"
     ]
    }
   ],
   "source": [
    "eng_word = input(\"Please enter english word: \")\n",
    "spa_word = input(\"Please enter traslation word: \")\n",
    "Dict[eng_word] = spa_word\n",
    "Dict_final = Dict\n",
    "Dict\n",
    "\n"
   ]
  },
  {
   "cell_type": "code",
   "execution_count": 19,
   "id": "8409413e-23e8-44a9-bea7-3730ed551d87",
   "metadata": {},
   "outputs": [],
   "source": [
    "# Get all the keys in dictionary\n",
    "#Dict.keys() \n",
    "# Get all the values in dictionary\n",
    "#Dict.values() \n",
    "# Verify the key is in the dictionary\n",
    "#'The Bodyguard' in Dict\n",
    "\n",
    "#del(Dict['house'])"
   ]
  },
  {
   "cell_type": "code",
   "execution_count": 21,
   "id": "63e25a5a-dfa1-44b3-85d6-6499bde3555d",
   "metadata": {},
   "outputs": [
    {
     "data": {
      "text/plain": [
       "True"
      ]
     },
     "execution_count": 21,
     "metadata": {},
     "output_type": "execute_result"
    }
   ],
   "source": [
    "'succes' in Dict\n"
   ]
  },
  {
   "cell_type": "code",
   "execution_count": 22,
   "id": "b3b8f55b-2156-4a2b-8c15-9f4245e00fc0",
   "metadata": {},
   "outputs": [
    {
     "data": {
      "text/plain": [
       "'exito'"
      ]
     },
     "execution_count": 22,
     "metadata": {},
     "output_type": "execute_result"
    }
   ],
   "source": [
    "Dict['succes'] "
   ]
  },
  {
   "cell_type": "code",
   "execution_count": null,
   "id": "847aff1a-4c15-4d08-be1b-cb1951f8b6b8",
   "metadata": {},
   "outputs": [],
   "source": []
  }
 ],
 "metadata": {
  "kernelspec": {
   "display_name": "jcpt",
   "language": "python",
   "name": "jcpt"
  },
  "language_info": {
   "codemirror_mode": {
    "name": "ipython",
    "version": 3
   },
   "file_extension": ".py",
   "mimetype": "text/x-python",
   "name": "python",
   "nbconvert_exporter": "python",
   "pygments_lexer": "ipython3",
   "version": "3.10.2"
  }
 },
 "nbformat": 4,
 "nbformat_minor": 5
}
